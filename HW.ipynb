{
 "cells": [
  {
   "cell_type": "code",
   "execution_count": 37,
   "metadata": {},
   "outputs": [
    {
     "name": "stdout",
     "output_type": "stream",
     "text": [
      "[(4, 1), (5, 2), (1, 3)]\n"
     ]
    }
   ],
   "source": [
    "#Task=7\n",
    "input_list = [(1, 3), (4, 1), (5, 2)]\n",
    "sorted_list = sorted(input_list, key=lambda x:x[1])\n",
    "\n",
    "print(sorted_list)  # Output: [(4, 1), (5, 2), (1, 3)]\n"
   ]
  },
  {
   "cell_type": "code",
   "execution_count": 38,
   "metadata": {},
   "outputs": [
    {
     "name": "stdout",
     "output_type": "stream",
     "text": [
      "20\n"
     ]
    }
   ],
   "source": [
    "#Task=8\n",
    "max_func = lambda x, y: x if x > y else y\n",
    "result = max_func(10, 20)\n",
    "print(result) "
   ]
  },
  {
   "cell_type": "code",
   "execution_count": 42,
   "metadata": {},
   "outputs": [
    {
     "name": "stdout",
     "output_type": "stream",
     "text": [
      "[{'name': 'Alice', 'age': 25}, {'name': 'John', 'age': 30}, {'name': 'Bob', 'age': 35}]\n"
     ]
    }
   ],
   "source": [
    "#Task=9\n",
    "input_list = [   {'name': 'John', 'age': 30},\n",
    "                 {'name': 'Alice', 'age': 25},\n",
    "                 {'name': 'Bob', 'age': 35} ]\n",
    "    \n",
    "sorted_list = sorted(input_list, key=lambda x: x['age'])\n",
    "\n",
    "print(sorted_list)\n",
    "\n"
   ]
  },
  {
   "cell_type": "code",
   "execution_count": 54,
   "metadata": {},
   "outputs": [
    {
     "name": "stdout",
     "output_type": "stream",
     "text": [
      "Taza Khabar\" \n",
      "Pushpa\" \n",
      "Money Heist\" \n"
     ]
    }
   ],
   "source": [
    "#Task=10\n",
    "class MovieCollection:\n",
    "    def __init__(self):\n",
    "        \n",
    "        self.movie_list = []\n",
    "\n",
    "    def add_movie(self, movie_title):\n",
    "        \n",
    "        self.movie_list.append(movie_title)\n",
    "        print(f'{movie_title}\" ')\n",
    "\n",
    "    def display_movies(self):\n",
    "\n",
    "        if self.movie_list:\n",
    "            print(\"Your Movie Collection:\")\n",
    "            for index, movie in enumerate(self.movie_list, start=1):\n",
    "                print(f\"{index}. {movie}\")\n",
    "        else:\n",
    "            print(\"Your movie collection is empty.\")\n",
    "\n",
    "    def search_movie(self, movie_title):\n",
    "        \"\"\"Searches for a movie by title.\"\"\"\n",
    "        if movie_title in self.movie_list:\n",
    "            print(f'Movie \"{movie_title}\" found in your collection.')\n",
    "        else:\n",
    "            print(f'Movie \"{movie_title}\" not found in your collection.')\n",
    "\n",
    "        \n",
    "        \n",
    "\n",
    "if __name__ == \"__main__\":\n",
    "    \n",
    "    my_movie_collection = MovieCollection()\n",
    "\n",
    "    \n",
    "    my_movie_collection.add_movie(\"Taza Khabar\")\n",
    "    my_movie_collection.add_movie(\"Pushpa\")\n",
    "    my_movie_collection.add_movie(\"Money Heist\")\n",
    "    \n",
    "\n",
    "    \n",
    "     \n"
   ]
  },
  {
   "cell_type": "code",
   "execution_count": 55,
   "metadata": {},
   "outputs": [
    {
     "name": "stdout",
     "output_type": "stream",
     "text": [
      "{3, 4}\n"
     ]
    }
   ],
   "source": [
    "#Task=2\n",
    "def find_intersection(set1, set2):\n",
    "    return set1.intersection(set2)\n",
    "\n",
    "\n",
    "set_a = {1, 2, 3, 4}\n",
    "set_b = {3, 4, 5, 6}\n",
    "intersection = find_intersection(set_a, set_b)\n",
    "print(intersection)  \n"
   ]
  },
  {
   "cell_type": "code",
   "execution_count": 57,
   "metadata": {},
   "outputs": [
    {
     "name": "stdout",
     "output_type": "stream",
     "text": [
      "6\n"
     ]
    }
   ],
   "source": [
    "#Task=3\n",
    "def sum_list(numbers):\n",
    "    return sum([num for num in numbers])\n",
    "\n",
    "\n",
    "input_list = [1,5]\n",
    "total = sum_list(input_list)\n",
    "print(total)  \n"
   ]
  },
  {
   "cell_type": "code",
   "execution_count": 63,
   "metadata": {},
   "outputs": [
    {
     "name": "stdout",
     "output_type": "stream",
     "text": [
      "None\n"
     ]
    }
   ],
   "source": [
    "#Task=1\n",
    "def remove_duplicates(input_list):\n",
    "    duplicate = input_list\n",
    "   \n",
    "    \n",
    "    \n",
    "input_list = [1, 2, 2, 3, 4, 4, 5]\n",
    "output_list = remove_duplicates(input_list)\n",
    "print(output_list)  \n",
    "# (Output not find)"
   ]
  },
  {
   "cell_type": "code",
   "execution_count": 64,
   "metadata": {},
   "outputs": [
    {
     "name": "stdout",
     "output_type": "stream",
     "text": [
      "{1, 2}\n"
     ]
    }
   ],
   "source": [
    "#Task=4\n",
    "def find_difference(set1, set2):\n",
    "    return set1.difference(set2)\n",
    "\n",
    "\n",
    "set_a = {1, 2, 3, 4}\n",
    "set_b = {3, 4, 5, 6}\n",
    "difference = find_difference(set_a, set_b)\n",
    "print(difference)  \n"
   ]
  },
  {
   "cell_type": "code",
   "execution_count": 65,
   "metadata": {},
   "outputs": [
    {
     "name": "stdout",
     "output_type": "stream",
     "text": [
      "True\n",
      "False\n"
     ]
    }
   ],
   "source": [
    "#Task=5\n",
    "def contains_element(input_list, element):\n",
    "    \n",
    "    if element in input_list:\n",
    "        return True\n",
    "    else:\n",
    "        return False\n",
    "\n",
    "\n",
    "my_list = [1, 2, 3, 4, 5]\n",
    "print(contains_element(my_list, 3))  \n",
    "print(contains_element(my_list, 6))  \n"
   ]
  },
  {
   "cell_type": "code",
   "execution_count": null,
   "metadata": {},
   "outputs": [],
   "source": []
  }
 ],
 "metadata": {
  "kernelspec": {
   "display_name": "Python 3",
   "language": "python",
   "name": "python3"
  },
  "language_info": {
   "name": "python",
   "version": "3.12.5"
  }
 },
 "nbformat": 4,
 "nbformat_minor": 2
}
